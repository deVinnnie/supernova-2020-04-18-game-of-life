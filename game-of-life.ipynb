{
 "cells": [
  {
   "cell_type": "markdown",
   "metadata": {
    "hideCode": false,
    "hidePrompt": false,
    "slideshow": {
     "slide_type": "slide"
    }
   },
   "source": [
    "# Conway's Game of Life\n",
    "\n",
    "Om de voorbeelden te kunnen zien moet je eerst klikken op 'Cell' ->  'Run All'"
   ]
  },
  {
   "cell_type": "markdown",
   "metadata": {
    "hideCode": false,
    "hidePrompt": false,
    "slideshow": {
     "slide_type": "slide"
    }
   },
   "source": [
    "# John Conway\n",
    "\n",
    "... was een Britse wiskundige. Hij bedacht 'Game of Life' in 1970.\n",
    "\n",
    "Conway overleed op 11 april 2020 ten gevolge van COVID-19.\n",
    "\n",
    "Zijn andere verdiensten zijn minder bekend, maar zeker de moeite om eens te bestuderen.\n",
    "Een kleine selectie:\n",
    "\n",
    "* [Surreële getallen](https://www.youtube.com/watch?v=mPn2AdMH7UQ)\n",
    "* [De Monster groep](https://www.youtube.com/watch?v=jsSeoGpiWsw)\n",
    "* [De Rij van Conway en Conway's constante](https://www.youtube.com/watch?v=ea7lJkEhytA)"
   ]
  },
  {
   "cell_type": "markdown",
   "metadata": {
    "hideCode": false,
    "hidePrompt": false,
    "slideshow": {
     "slide_type": "slide"
    }
   },
   "source": [
    "# Game of Life\n",
    "\n",
    "* Wordt gespeeld op een (oneindig) tweedimensionaal raster.\n",
    "* Het is een spel voor 0 personen.\n",
    "* Het is een voorbeeld van een 'cellulaire automaat'.\n",
    "    - Elk vak in het raster wordt een cel genoemd.\n",
    "    - Iedere cel heeft een toestand, bijvoorbeeld 'Aan' of 'Uit'.\n",
    "    - De toestand van de cel evolueert op basis van de huidige toestand, en de toestand van zijn buren."
   ]
  },
  {
   "cell_type": "markdown",
   "metadata": {
    "slideshow": {
     "slide_type": "skip"
    }
   },
   "source": [
    "Het blokje code hieronder bevat een uitgewerkte versie van 'Game of Life'.\n",
    "\n",
    "Je kan dit even overslagen, en doorbladeren naar de spel-regels."
   ]
  },
  {
   "cell_type": "code",
   "execution_count": 1,
   "metadata": {
    "hideCode": false,
    "hidePrompt": false,
    "slideshow": {
     "slide_type": "skip"
    }
   },
   "outputs": [],
   "source": [
    "import copy\n",
    "import random\n",
    "import time\n",
    "\n",
    "import matplotlib.pyplot as plt\n",
    "import matplotlib.image as mpimg\n",
    "\n",
    "from IPython.display import display\n",
    "import ipywidgets as widgets\n",
    "import time\n",
    "\n",
    "class GameOfLife:\n",
    "\n",
    "    def __init__(self, grid=None):\n",
    "        self.grid = grid\n",
    "\n",
    "    @classmethod\n",
    "    def random(cls, lines=1, rows=1, seed=1):\n",
    "        random.seed(seed)\n",
    "        grid = []\n",
    "        grid = [None] * lines\n",
    "\n",
    "        for y in range(0, lines):\n",
    "            grid[y] = list(random.choice([True, False]) for i in range(rows))\n",
    "            \n",
    "        return cls(grid)\n",
    "    \n",
    "    @classmethod\n",
    "    def fromImage(cls, file):\n",
    "        img = mpimg.imread(file)\n",
    "        grid = []\n",
    "        grid = [None] * len(img)\n",
    "        \n",
    "        for y in range(0, len(img)):\n",
    "            grid[y] = list(map(lambda pixel: True if pixel[0] == 0 else False, img[y]))\n",
    "        \n",
    "        return cls(grid)\n",
    "\n",
    "    def number_of_neighbours(self, y, x):\n",
    "        # <x>\n",
    "        # xxx    ^\n",
    "        # x x    y\n",
    "        # xxx    v\n",
    "\n",
    "        coordinates = [\n",
    "          (y-1, x-1),\n",
    "          (y-1, x),\n",
    "          (y-1, x+1),\n",
    "\n",
    "          (y, x-1),\n",
    "          (y, x+1),\n",
    "\n",
    "          (y+1, x-1),\n",
    "          (y+1, x),\n",
    "          (y+1, x+1)\n",
    "        ]\n",
    "        positive_coordinates = list(filter(lambda point: point[0] >= 0 and point[1] >= 0, coordinates))\n",
    "        positive_coordinates = list(filter(lambda point: point[0] < len(self.grid) and point[1] < len(self.grid[0]), positive_coordinates))\n",
    "\n",
    "        neighbours = list(map(lambda point: self.grid[point[0]][point[1]], positive_coordinates))\n",
    "        return len(list(filter(lambda cell: cell is True, neighbours)))\n",
    "\n",
    "    def tick(self):\n",
    "        new_grid = copy.deepcopy(self.grid)\n",
    "        for y in range(0, len(self.grid)):\n",
    "            row = self.grid[y]\n",
    "            for x in range(0, len(row)):\n",
    "                cell = row[x]\n",
    "                number_of_neighbours = self.number_of_neighbours(y, x)\n",
    "                # 1. Any live cell with two or three neighbours survives\n",
    "                if cell is True and (number_of_neighbours == 2 or number_of_neighbours == 3):\n",
    "                    new_grid[y][x] = True\n",
    "                # 2. Any dead cell with three live neighbours becomes a live cell:\n",
    "                elif cell is False and (number_of_neighbours == 3):\n",
    "                    new_grid[y][x] = True\n",
    "                # 3. All other live cells die in the next generation.\n",
    "                else:\n",
    "                    new_grid[y][x] = False\n",
    "\n",
    "        self.grid = new_grid\n",
    "        \n",
    "    def loop(self, iterations, output):\n",
    "        output.clear_output()\n",
    "        with output:\n",
    "            out = widgets.HTML()\n",
    "            display(out)\n",
    "\n",
    "            for i in range(0, iterations):\n",
    "                out.value = self.generateHtml()\n",
    "\n",
    "                time.sleep(0.250)\n",
    "                self.tick()\n",
    "                \n",
    "    def generateHtml(self):\n",
    "        table = '<table class=\"game-of-life\" style=\"border: none; padding: 0 0 0 0;\">'\n",
    "\n",
    "        aliveCell = '<td height=\"15px\" width=\"15px\" style=\"background:black;\"></td>'\n",
    "        deadCell  = '<td height=\"15px\" width=\"15px\" style=\"border:none;\"></td>'\n",
    "        for y in range(0, len(self.grid)):\n",
    "            table += '<tr>'\n",
    "            row = self.grid[y]\n",
    "            row = list(map(lambda cell: aliveCell if cell is True else deadCell, row))\n",
    "            table += ''.join(row)\n",
    "            table += '</tr>'\n",
    "\n",
    "        table += '</table>'\n",
    "        return table\n",
    "                \n",
    "    def show(self, iterations=10):\n",
    "        button = widgets.Button(\n",
    "            description='Start',\n",
    "            disabled=False,\n",
    "            tooltip='Start',\n",
    "            icon='play'\n",
    "        )\n",
    "\n",
    "        output = widgets.Output()\n",
    "       \n",
    "        def on_button_clicked(b):\n",
    "            self.loop(iterations, output)\n",
    "\n",
    "        display(button)\n",
    "        display(output)\n",
    "        \n",
    "        with output:\n",
    "            out = widgets.HTML()\n",
    "            display(out)\n",
    "            out.value = self.generateHtml()\n",
    "        button.on_click(on_button_clicked)"
   ]
  },
  {
   "cell_type": "code",
   "execution_count": 2,
   "metadata": {
    "hideCode": false,
    "hidePrompt": false,
    "scrolled": true,
    "slideshow": {
     "slide_type": "slide"
    }
   },
   "outputs": [
    {
     "data": {
      "application/vnd.jupyter.widget-view+json": {
       "model_id": "adcebf904a854f2eb7c2e8db0bf7c06b",
       "version_major": 2,
       "version_minor": 0
      },
      "text/plain": [
       "Button(description='Start', icon='play', style=ButtonStyle(), tooltip='Start')"
      ]
     },
     "metadata": {},
     "output_type": "display_data"
    },
    {
     "data": {
      "application/vnd.jupyter.widget-view+json": {
       "model_id": "346bcac1e4504eb999a87b83ee31d823",
       "version_major": 2,
       "version_minor": 0
      },
      "text/plain": [
       "Output()"
      ]
     },
     "metadata": {},
     "output_type": "display_data"
    }
   ],
   "source": [
    "game = GameOfLife.random(20, 20, 1)\n",
    "game.show(30)"
   ]
  },
  {
   "cell_type": "markdown",
   "metadata": {
    "hideCode": false,
    "hidePrompt": false,
    "slideshow": {
     "slide_type": "slide"
    }
   },
   "source": [
    "## Regels\n",
    "\n",
    "Een cel heeft twee toestanden: 'Dood' of 'Levend'. In onze voorstelling zijn dode cellen wit gekleurd (zelfde kleur als de achtergrond, dus onzichtbaar). Levende cellen zijn zwart gekleurd.\n",
    "\n",
    "Om te weten wat de volgende toestand van een cel is, moeten we volgende regels volgen:\n",
    "\n",
    "1. Een levende cell met 2 of 3 buren overleeft;\n",
    "2. Een dode cell met 3 buren wordt levend;\n",
    "3. Alle andere cellen gaan dood."
   ]
  },
  {
   "cell_type": "markdown",
   "metadata": {
    "slideshow": {
     "slide_type": "slide"
    }
   },
   "source": [
    "Een aantal patronen komen regelmatig terug. We tonen voor elke categorie een voorbeeldje.\n",
    "\n",
    "Probeer bij elk voorbeeld de regels van het spel toe te passen. Dit lukt het best door de start figuur over te nemen op een blad papier. Teken een tweede - leeg - raster, en bepaal de toestand voor elke cel.\n",
    "\n",
    "Meer patronen vind je op: [https://en.wikipedia.org/wiki/Conway's_Game_of_Life#Examples_of_patterns](https://en.wikipedia.org/wiki/Conway's_Game_of_Life#Examples_of_patterns)"
   ]
  },
  {
   "cell_type": "markdown",
   "metadata": {
    "hideCode": false,
    "hidePrompt": false,
    "slideshow": {
     "slide_type": "slide"
    }
   },
   "source": [
    "## Oscillator\n",
    "\n",
    "Na een aantal iteraties verschijnt opnieuw de start-figuur. In dit voorbeeld is de periode gelijk aan '1'."
   ]
  },
  {
   "cell_type": "code",
   "execution_count": 3,
   "metadata": {
    "hideCode": false,
    "hidePrompt": false
   },
   "outputs": [
    {
     "data": {
      "application/vnd.jupyter.widget-view+json": {
       "model_id": "30ce9458f3ce48e2b514349d144186a9",
       "version_major": 2,
       "version_minor": 0
      },
      "text/plain": [
       "Button(description='Start', icon='play', style=ButtonStyle(), tooltip='Start')"
      ]
     },
     "metadata": {},
     "output_type": "display_data"
    },
    {
     "data": {
      "application/vnd.jupyter.widget-view+json": {
       "model_id": "62ab59179d234e379870b54f95c7bb8f",
       "version_major": 2,
       "version_minor": 0
      },
      "text/plain": [
       "Output()"
      ]
     },
     "metadata": {},
     "output_type": "display_data"
    }
   ],
   "source": [
    "game = GameOfLife([[False, False, False], [True, True, True], [False, False, False]])\n",
    "game.show(10)"
   ]
  },
  {
   "cell_type": "markdown",
   "metadata": {
    "hideCode": false,
    "hidePrompt": false,
    "slideshow": {
     "slide_type": "slide"
    }
   },
   "source": [
    "## Stilleven\n",
    "\n",
    "Bij een stilleven blijven de cellen in dezelfde toestand. (Dit is geen bug)"
   ]
  },
  {
   "cell_type": "code",
   "execution_count": 4,
   "metadata": {
    "hideCode": false,
    "hidePrompt": false
   },
   "outputs": [
    {
     "data": {
      "application/vnd.jupyter.widget-view+json": {
       "model_id": "47877ce1340f496f8827e4f849f7c709",
       "version_major": 2,
       "version_minor": 0
      },
      "text/plain": [
       "Button(description='Start', icon='play', style=ButtonStyle(), tooltip='Start')"
      ]
     },
     "metadata": {},
     "output_type": "display_data"
    },
    {
     "data": {
      "application/vnd.jupyter.widget-view+json": {
       "model_id": "e2ae36e0aeb9435c88f4fa33b600327e",
       "version_major": 2,
       "version_minor": 0
      },
      "text/plain": [
       "Output()"
      ]
     },
     "metadata": {},
     "output_type": "display_data"
    }
   ],
   "source": [
    "game = GameOfLife([[False, False, False, False], [False, True, True, False], [False, True, True, False], [False, False, False, False]])\n",
    "game.show(10)"
   ]
  },
  {
   "cell_type": "markdown",
   "metadata": {
    "hideCode": false,
    "hidePrompt": false,
    "slideshow": {
     "slide_type": "slide"
    }
   },
   "source": [
    "## Ruimteschip"
   ]
  },
  {
   "cell_type": "markdown",
   "metadata": {},
   "source": [
    "Een ruimteschip is een figuur die zich over het raster verplaatst.\n",
    "Omdat de computer geen oneindig geheugen heeft, verdwijnt het ruimteschip wanneer het de rand bereikt.\n",
    "Mocht je een oneindig raster hebben dan zou het in theorie ook oneindig lang door blijven bewegen."
   ]
  },
  {
   "cell_type": "code",
   "execution_count": 5,
   "metadata": {
    "hideCode": false,
    "hidePrompt": false
   },
   "outputs": [
    {
     "data": {
      "application/vnd.jupyter.widget-view+json": {
       "model_id": "a2bcae0c599047ca96ef9d833967d36e",
       "version_major": 2,
       "version_minor": 0
      },
      "text/plain": [
       "Button(description='Start', icon='play', style=ButtonStyle(), tooltip='Start')"
      ]
     },
     "metadata": {},
     "output_type": "display_data"
    },
    {
     "data": {
      "application/vnd.jupyter.widget-view+json": {
       "model_id": "1e6acefd48d9457f8c9f56a814f1d099",
       "version_major": 2,
       "version_minor": 0
      },
      "text/plain": [
       "Output()"
      ]
     },
     "metadata": {},
     "output_type": "display_data"
    }
   ],
   "source": [
    "game = GameOfLife.fromImage('spaceship.png')\n",
    "game.show(100)"
   ]
  },
  {
   "cell_type": "markdown",
   "metadata": {
    "slideshow": {
     "slide_type": "slide"
    }
   },
   "source": [
    "# Een cool patroon om af te sluiten\n",
    "\n",
    "Er bestaan verschillende interessante patronen. Het onderstaande is een klassieker.\n",
    "Het genereert ruimteschepen!"
   ]
  },
  {
   "cell_type": "code",
   "execution_count": 6,
   "metadata": {
    "hideCode": false,
    "hidePrompt": false,
    "scrolled": true,
    "slideshow": {
     "slide_type": "-"
    }
   },
   "outputs": [
    {
     "data": {
      "application/vnd.jupyter.widget-view+json": {
       "model_id": "c8aad1edaa4f469a84f047a11992d4f1",
       "version_major": 2,
       "version_minor": 0
      },
      "text/plain": [
       "Button(description='Start', icon='play', style=ButtonStyle(), tooltip='Start')"
      ]
     },
     "metadata": {},
     "output_type": "display_data"
    },
    {
     "data": {
      "application/vnd.jupyter.widget-view+json": {
       "model_id": "618c2ad40fbe41a7828bf858ca28fb94",
       "version_major": 2,
       "version_minor": 0
      },
      "text/plain": [
       "Output()"
      ]
     },
     "metadata": {},
     "output_type": "display_data"
    }
   ],
   "source": [
    "game = GameOfLife.fromImage(\"goslin_glider.png\")\n",
    "game.show(100)"
   ]
  }
 ],
 "metadata": {
  "celltoolbar": "Slideshow",
  "hide_code_all_hidden": false,
  "kernelspec": {
   "display_name": "Python 3",
   "language": "python",
   "name": "python3"
  },
  "language_info": {
   "codemirror_mode": {
    "name": "ipython",
    "version": 3
   },
   "file_extension": ".py",
   "mimetype": "text/x-python",
   "name": "python",
   "nbconvert_exporter": "python",
   "pygments_lexer": "ipython3",
   "version": "3.8.2"
  },
  "rise": {
   "scroll": true
  }
 },
 "nbformat": 4,
 "nbformat_minor": 4
}
