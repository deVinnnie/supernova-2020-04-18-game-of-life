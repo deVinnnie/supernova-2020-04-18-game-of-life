{
 "cells": [
  {
   "cell_type": "code",
   "execution_count": 123,
   "metadata": {
    "slideshow": {
     "slide_type": "skip"
    }
   },
   "outputs": [],
   "source": [
    "import copy\n",
    "import random\n",
    "import time\n",
    "\n",
    "import matplotlib.pyplot as plt\n",
    "import matplotlib.image as mpimg\n",
    "\n",
    "class GameOfLife:\n",
    "\n",
    "    def __init__(self, grid=None):\n",
    "        self.grid = grid\n",
    "\n",
    "    @classmethod\n",
    "    def random(cls, lines=1, rows=1, seed=1):\n",
    "        random.seed(seed)\n",
    "        grid = []\n",
    "        grid = [None] * lines\n",
    "\n",
    "        for y in range(0, lines):\n",
    "            grid[y] = list(random.choice([True, False]) for i in range(rows))\n",
    "            \n",
    "        return cls(grid)\n",
    "    \n",
    "    @classmethod\n",
    "    def fromImage(cls, file):\n",
    "        img = mpimg.imread(file)\n",
    "        grid = []\n",
    "        grid = [None] * len(img)\n",
    "        \n",
    "        for y in range(0, len(img)):\n",
    "            grid[y] = list(map(lambda pixel: True if pixel[0] < 128 else False, img[y]))\n",
    "        \n",
    "        return cls(grid)\n",
    "\n",
    "    def tick(self):\n",
    "        new_grid = copy.deepcopy(self.grid)\n",
    "        \n",
    "        # TODO: Magic!\n",
    "\n",
    "        self.grid = new_grid\n",
    "        \n",
    "from IPython.display import display\n",
    "import ipywidgets as widgets\n",
    "import time\n",
    "\n",
    "def loop(game, iterations):\n",
    "    out = widgets.HTML()\n",
    "    display(out)\n",
    "    \n",
    "    for i in range(0, iterations):\n",
    "        table = '<table class=\"game-of-life\" style=\"border: none; padding: 0 0 0 0;\">'\n",
    "        \n",
    "        aliveCell = '<td height=\"15px\" width=\"15px\" style=\"background:black;\"></td>'\n",
    "        deadCell  = '<td height=\"15px\" width=\"15px\" style=\"border:none;\"></td>'\n",
    "        for y in range(0, len(game.grid)):\n",
    "            table += '<tr>'\n",
    "            row = game.grid[y]\n",
    "            row = list(map(lambda cell: aliveCell if cell is True else deadCell, row))\n",
    "            table += ''.join(row)\n",
    "            table += '</tr>'\n",
    "        \n",
    "        table += '</table>'\n",
    "        out.value = table\n",
    "        \n",
    "        time.sleep(0.250)\n",
    "        game.tick()"
   ]
  },
  {
   "cell_type": "markdown",
   "metadata": {
    "slideshow": {
     "slide_type": "slide"
    }
   },
   "source": [
    "# Conway's Game of Life"
   ]
  },
  {
   "cell_type": "markdown",
   "metadata": {
    "slideshow": {
     "slide_type": "slide"
    }
   },
   "source": [
    "# John Conway\n",
    "\n",
    "* [Surreële getallen](https://www.youtube.com/watch?v=mPn2AdMH7UQ)\n",
    "* [De Monster groep](https://www.youtube.com/watch?v=jsSeoGpiWsw)\n",
    "* [De Rij van Conway en Conway's constante](https://nl.wikipedia.org/wiki/Rij_van_Conway)"
   ]
  },
  {
   "cell_type": "markdown",
   "metadata": {
    "slideshow": {
     "slide_type": "slide"
    }
   },
   "source": [
    "# Game of Life"
   ]
  },
  {
   "cell_type": "code",
   "execution_count": 124,
   "metadata": {},
   "outputs": [
    {
     "data": {
      "application/vnd.jupyter.widget-view+json": {
       "model_id": "d02c1282f0694ee2a79649f56af4bb56",
       "version_major": 2,
       "version_minor": 0
      },
      "text/plain": [
       "HTML(value='')"
      ]
     },
     "metadata": {},
     "output_type": "display_data"
    }
   ],
   "source": [
    "game = GameOfLife.random(20, 20, 1)\n",
    "loop(game, 100)"
   ]
  },
  {
   "cell_type": "markdown",
   "metadata": {
    "slideshow": {
     "slide_type": "slide"
    }
   },
   "source": [
    "## Regels\n",
    "\n",
    "1. Een levende cell met 2 of 3 buren overleeft;\n",
    "2. Een dode cell met 3 buren wordt levend;\n",
    "3. Alle andere cellen gaan dood."
   ]
  },
  {
   "cell_type": "markdown",
   "metadata": {
    "slideshow": {
     "slide_type": "slide"
    }
   },
   "source": [
    "## Oscillator"
   ]
  },
  {
   "cell_type": "code",
   "execution_count": 126,
   "metadata": {},
   "outputs": [
    {
     "data": {
      "application/vnd.jupyter.widget-view+json": {
       "model_id": "0ab531f7a69b411db64b673bcb40cc0d",
       "version_major": 2,
       "version_minor": 0
      },
      "text/plain": [
       "HTML(value='')"
      ]
     },
     "metadata": {},
     "output_type": "display_data"
    }
   ],
   "source": [
    "game = GameOfLife([[False, False, False], [True, True, True], [False, False, False]])\n",
    "loop(game, 10)"
   ]
  },
  {
   "cell_type": "markdown",
   "metadata": {},
   "source": [
    "## Stilleven"
   ]
  },
  {
   "cell_type": "code",
   "execution_count": 125,
   "metadata": {},
   "outputs": [
    {
     "data": {
      "application/vnd.jupyter.widget-view+json": {
       "model_id": "456ac056a50b4d72a8fcb6a3f2126492",
       "version_major": 2,
       "version_minor": 0
      },
      "text/plain": [
       "HTML(value='')"
      ]
     },
     "metadata": {},
     "output_type": "display_data"
    }
   ],
   "source": [
    "game = GameOfLife([[False, False, False, False], [False, True, True, False], [False, True, True, False], [False, False, False, False]])\n",
    "loop(game, 10)"
   ]
  },
  {
   "cell_type": "markdown",
   "metadata": {
    "slideshow": {
     "slide_type": "slide"
    }
   },
   "source": [
    "## Ruimteschip"
   ]
  },
  {
   "cell_type": "code",
   "execution_count": 127,
   "metadata": {},
   "outputs": [
    {
     "data": {
      "application/vnd.jupyter.widget-view+json": {
       "model_id": "35734151b362423d802bbe4175025bde",
       "version_major": 2,
       "version_minor": 0
      },
      "text/plain": [
       "HTML(value='')"
      ]
     },
     "metadata": {},
     "output_type": "display_data"
    }
   ],
   "source": [
    "game = GameOfLife.fromImage('spaceship.bmp')\n",
    "loop(game, 100)"
   ]
  },
  {
   "cell_type": "markdown",
   "metadata": {},
   "source": [
    "Meer patronen vind je op: [https://en.wikipedia.org/wiki/Conway's_Game_of_Life#Examples_of_patterns](https://en.wikipedia.org/wiki/Conway's_Game_of_Life#Examples_of_patterns)"
   ]
  },
  {
   "cell_type": "markdown",
   "metadata": {
    "slideshow": {
     "slide_type": "slide"
    }
   },
   "source": [
    "# Python 101"
   ]
  },
  {
   "cell_type": "markdown",
   "metadata": {
    "slideshow": {
     "slide_type": "slide"
    }
   },
   "source": [
    "# Hello World"
   ]
  },
  {
   "cell_type": "code",
   "execution_count": null,
   "metadata": {
    "slideshow": {
     "slide_type": "-"
    }
   },
   "outputs": [],
   "source": [
    "print(\"Hello World\")"
   ]
  },
  {
   "cell_type": "markdown",
   "metadata": {
    "slideshow": {
     "slide_type": "-"
    }
   },
   "source": [
    "## If-statement"
   ]
  },
  {
   "cell_type": "code",
   "execution_count": null,
   "metadata": {},
   "outputs": [],
   "source": [
    "talkingToWorld = True\n",
    "if talkingToWorld:\n",
    "    print(\"Hello World\")\n",
    "else:\n",
    "    print(\"Hello..\")"
   ]
  },
  {
   "cell_type": "markdown",
   "metadata": {
    "slideshow": {
     "slide_type": "slide"
    }
   },
   "source": [
    "# For-Loops"
   ]
  },
  {
   "cell_type": "code",
   "execution_count": null,
   "metadata": {},
   "outputs": [],
   "source": [
    "for x in range(0, 10):\n",
    "    print(x)"
   ]
  },
  {
   "cell_type": "markdown",
   "metadata": {
    "slideshow": {
     "slide_type": "slide"
    }
   },
   "source": [
    "# Arrays"
   ]
  },
  {
   "cell_type": "code",
   "execution_count": null,
   "metadata": {},
   "outputs": [],
   "source": [
    "array = [1, 1, 2, 3, 5, 8, 13]\n",
    "\n",
    "print(array[0])\n",
    "print(array[6])"
   ]
  },
  {
   "cell_type": "code",
   "execution_count": null,
   "metadata": {},
   "outputs": [],
   "source": [
    "len(array)"
   ]
  },
  {
   "cell_type": "code",
   "execution_count": null,
   "metadata": {},
   "outputs": [],
   "source": [
    "grid = [\n",
    "    [1, 2, 3],\n",
    "    [4, 5, 6],\n",
    "    [7, 8, 9]\n",
    "]\n",
    "\n",
    "print(grid[0][0])\n",
    "print(grid[0][1])\n",
    "print(grid[1][1])"
   ]
  },
  {
   "cell_type": "markdown",
   "metadata": {
    "slideshow": {
     "slide_type": "slide"
    }
   },
   "source": [
    "# Arrays"
   ]
  },
  {
   "cell_type": "code",
   "execution_count": null,
   "metadata": {},
   "outputs": [],
   "source": [
    "array[0] = 42\n",
    "print(array)"
   ]
  },
  {
   "cell_type": "code",
   "execution_count": null,
   "metadata": {},
   "outputs": [],
   "source": [
    "for x in range(0, len(array)):\n",
    "    print(\"Element {} is {}\".format(x, array[x]))"
   ]
  },
  {
   "cell_type": "code",
   "execution_count": 128,
   "metadata": {
    "slideshow": {
     "slide_type": "slide"
    }
   },
   "outputs": [
    {
     "data": {
      "application/vnd.jupyter.widget-view+json": {
       "model_id": "4bd5b4f56c6e4643b786521a6aa162d5",
       "version_major": 2,
       "version_minor": 0
      },
      "text/plain": [
       "HTML(value='')"
      ]
     },
     "metadata": {},
     "output_type": "display_data"
    }
   ],
   "source": [
    "game = GameOfLife.fromImage(\"goslin_glider.bmp\")\n",
    "loop(game, 100)"
   ]
  },
  {
   "cell_type": "code",
   "execution_count": null,
   "metadata": {},
   "outputs": [],
   "source": []
  }
 ],
 "metadata": {
  "celltoolbar": "Slideshow",
  "kernelspec": {
   "display_name": "Python 3",
   "language": "python",
   "name": "python3"
  },
  "language_info": {
   "codemirror_mode": {
    "name": "ipython",
    "version": 3
   },
   "file_extension": ".py",
   "mimetype": "text/x-python",
   "name": "python",
   "nbconvert_exporter": "python",
   "pygments_lexer": "ipython3",
   "version": "3.8.2"
  },
  "rise": {
   "scroll": true
  }
 },
 "nbformat": 4,
 "nbformat_minor": 4
}
